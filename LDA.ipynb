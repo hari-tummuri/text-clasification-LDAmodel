{
 "cells": [
  {
   "cell_type": "code",
   "execution_count": null,
   "id": "272546fa",
   "metadata": {},
   "outputs": [],
   "source": [
    "import pandas as pd\n",
    "import gensim\n",
    "from gensim import corpora, models\n",
    "from gensim.models import CoherenceModel\n",
    "from gensim.parsing.preprocessing import STOPWORDS"
   ]
  },
  {
   "cell_type": "code",
   "execution_count": null,
   "id": "f11332e0",
   "metadata": {},
   "outputs": [],
   "source": [
    "!pip install gensim\n"
   ]
  },
  {
   "cell_type": "code",
   "execution_count": null,
   "id": "3706afef",
   "metadata": {},
   "outputs": [],
   "source": [
    "data = pd.read_excel('for_unsupervised.xlsx', sheet_name='Sheet1')\n",
    "data"
   ]
  },
  {
   "cell_type": "code",
   "execution_count": null,
   "id": "71f74b98",
   "metadata": {},
   "outputs": [],
   "source": [
    "# Preprocessing: tokenize and clean the text\n",
    "def preprocess(text):\n",
    "    return [word for word in gensim.utils.simple_preprocess(text) if word not in STOPWORDS]"
   ]
  },
  {
   "cell_type": "code",
   "execution_count": null,
   "id": "6009dbce",
   "metadata": {},
   "outputs": [],
   "source": [
    "data['processed_text'] = data['inc_short_description'].apply(preprocess)"
   ]
  },
  {
   "cell_type": "code",
   "execution_count": null,
   "id": "d2e45261",
   "metadata": {},
   "outputs": [],
   "source": [
    "# Create a dictionary representation of the documents\n",
    "dictionary = corpora.Dictionary(data['processed_text'])"
   ]
  },
  {
   "cell_type": "code",
   "execution_count": null,
   "id": "2c45f549",
   "metadata": {},
   "outputs": [],
   "source": [
    "# Create a bag-of-words representation of the documents\n",
    "corpus = [dictionary.doc2bow(text) for text in data['processed_text']]\n",
    "corpus"
   ]
  },
  {
   "cell_type": "code",
   "execution_count": null,
   "id": "42c75214",
   "metadata": {},
   "outputs": [],
   "source": [
    "# Automatic determination of the number of topics using coherence score\n",
    "coherence_scores = []\n",
    "for num_topics in range(15, 60):  # Try a range of possible topics\n",
    "    lda_model = gensim.models.LdaModel(corpus=corpus, id2word=dictionary, num_topics=num_topics, passes=15)\n",
    "    coherence_model_lda = CoherenceModel(model=lda_model, texts=data['processed_text'], dictionary=dictionary, coherence='c_v')\n",
    "    coherence_score = coherence_model_lda.get_coherence()\n",
    "    coherence_scores.append((num_topics, coherence_score))"
   ]
  },
  {
   "cell_type": "code",
   "execution_count": null,
   "id": "5c13de91",
   "metadata": {},
   "outputs": [],
   "source": [
    "# Find the number of topics with the highest coherence score\n",
    "optimal_num_topics = max(coherence_scores, key=lambda x: x[1])[0]"
   ]
  },
  {
   "cell_type": "code",
   "execution_count": null,
   "id": "7228ad8d",
   "metadata": {},
   "outputs": [],
   "source": [
    "# Train the final LDA model with the optimal number of topics\n",
    "lda_model = gensim.models.LdaModel(corpus=corpus, id2word=dictionary, num_topics=optimal_num_topics, passes=15)"
   ]
  },
  {
   "cell_type": "code",
   "execution_count": null,
   "id": "a76d3f26",
   "metadata": {},
   "outputs": [],
   "source": [
    "# Print the topics and their top words\n",
    "topics = lda_model.print_topics(num_words=5)\n",
    "for topic in topics:\n",
    "    print(topic)"
   ]
  },
  {
   "cell_type": "code",
   "execution_count": null,
   "id": "2a1ab7e2",
   "metadata": {},
   "outputs": [],
   "source": [
    "data['topic_distribution'] = [lda_model.get_document_topics(doc) for doc in corpus]"
   ]
  },
  {
   "cell_type": "code",
   "execution_count": null,
   "id": "262997b9",
   "metadata": {},
   "outputs": [],
   "source": [
    "# Convert the topic distribution to a more readable format\n",
    "data['topics'] = [\", \".join([f\"Topic {topic}: {prob:.2f}\" for topic, prob in doc_topics]) for doc_topics in data['topic_distribution']]"
   ]
  },
  {
   "cell_type": "code",
   "execution_count": null,
   "id": "dd5a572b",
   "metadata": {},
   "outputs": [],
   "source": [
    "# Save the results to a CSV file\n",
    "data.to_csv('topic_results.csv', index=False)"
   ]
  },
  {
   "cell_type": "code",
   "execution_count": null,
   "id": "f991dabd",
   "metadata": {},
   "outputs": [],
   "source": [
    "import pickle"
   ]
  },
  {
   "cell_type": "code",
   "execution_count": null,
   "id": "b035b2e5",
   "metadata": {},
   "outputs": [],
   "source": [
    "with open('lda_model.pickle','wb') as file:\n",
    "    pickle.dump(lda_model, file)"
   ]
  },
  {
   "cell_type": "code",
   "execution_count": null,
   "id": "5c785224",
   "metadata": {},
   "outputs": [],
   "source": []
  }
 ],
 "metadata": {
  "kernelspec": {
   "display_name": "Python 3 (ipykernel)",
   "language": "python",
   "name": "python3"
  },
  "language_info": {
   "codemirror_mode": {
    "name": "ipython",
    "version": 3
   },
   "file_extension": ".py",
   "mimetype": "text/x-python",
   "name": "python",
   "nbconvert_exporter": "python",
   "pygments_lexer": "ipython3",
   "version": "3.9.17"
  }
 },
 "nbformat": 4,
 "nbformat_minor": 5
}
